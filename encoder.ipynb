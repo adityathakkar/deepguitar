{
 "cells": [
  {
   "cell_type": "markdown",
   "metadata": {},
   "source": [
    "# Encoder Script\n",
    "- Ingest a MIDI File, and mathematically encode it for ingestion into a neural network\n"
   ]
  },
  {
   "cell_type": "code",
   "execution_count": 1,
   "metadata": {},
   "outputs": [],
   "source": [
    "# Makes 2 sequences for LSTM model consumption\n",
    "#     1. Note/Chord/Rest Sequence \n",
    "#     2. Duration Sequence "
   ]
  },
  {
   "cell_type": "code",
   "execution_count": 2,
   "metadata": {},
   "outputs": [],
   "source": [
    "import pandas as pd \n",
    "import numpy as np \n",
    "\n",
    "import matplotlib.pyplot as plt\n",
    "import matplotlib.lines as mlines\n",
    "import math\n",
    "import fractions\n",
    "import decimal\n",
    "import re\n",
    "import seaborn as sns\n",
    "import pickle\n",
    "\n",
    "from music21 import converter, corpus, instrument, midi, note, chord, pitch, musicxml\n",
    "\n",
    "plt.rcParams[\"figure.figsize\"] = (20,10)\n"
   ]
  },
  {
   "cell_type": "code",
   "execution_count": 3,
   "metadata": {},
   "outputs": [],
   "source": [
    "# Base function that opens the midi file\n",
    "def open_midi(path):\n",
    "    mf = midi.MidiFile()\n",
    "    mf.open(path)\n",
    "    mf.read()\n",
    "    mf.close()\n",
    "    return midi.translate.midiFileToStream(mf)\n",
    "\n",
    "# Reference function \n",
    "# TODO: Delete this thing later when you can rewrite it!!\n",
    "def extract_notes(midi_part):\n",
    "    notes = [] \n",
    "    for nt in midi_part.flat.notes:\n",
    "        notes.append(nt)\n",
    "    return notes\n",
    "\n",
    "\n",
    "def get_offsets_durations(midi_part):\n",
    "    parent_element = [] \n",
    "    ret = [] \n",
    "    offsets = []\n",
    "    durations = [] \n",
    "    for nt in midi_part.flat.notes:\n",
    "        offsets.append(nt.offset)\n",
    "        durations.append(nt.duration.quarterLength)\n",
    "    return offsets, durations\n",
    "\n",
    "\n",
    "# Convert midi part to a numpy array\n",
    "def build_track(midi_part):\n",
    "    return None \n",
    "\n",
    "# Build a map of all notes and chords to a value in \n",
    "def build_note_tbl(midi_stream):\n",
    "    \n",
    "    tbl = {}\n",
    "    count = 1\n",
    "    \n",
    "    tbl[\"REST\"] = 0\n",
    "\n",
    "    for part in midi_stream: \n",
    "        for nt in part.flat.notes:\n",
    "            if (isinstance(nt, note.Note)):\n",
    "                if (nt.pitch.nameWithOctave not in tbl):\n",
    "                    tbl[nt.pitch.nameWithOctave] = count\n",
    "                    count += 1 \n",
    "            elif (isinstance(nt, chord.Chord)):\n",
    "                chord_name = \"\"\n",
    "                for i in nt.notes:\n",
    "                    chord_name += i.pitch.nameWithOctave + \" \"\n",
    "                chord_name = chord_name[0:len(chord_name)-1]\n",
    "                if (chord_name not in tbl):\n",
    "                    tbl[chord_name] = count\n",
    "                    count += 1\n",
    "    \n",
    "    # tbl maps note/chord to int\n",
    "    # inv_tbl maps int to note/chord \n",
    "    inv_tbl = {v: k for k, v in tbl.items()}\n",
    "    \n",
    "    return tbl, inv_tbl\n",
    "\n",
    "# Coonvert the times from floats to fractions\n",
    "def convert_to_frac(times):\n",
    "    dur = [0 for i in range(len(times))]\n",
    "    for i in range(len(times)):\n",
    "        if not isinstance(times[i], float):\n",
    "            val = times[i]\n",
    "        else:\n",
    "            val = fractions.Fraction(times[i])\n",
    "        dur[i]= val\n",
    "        \n",
    "    return dur\n",
    "\n",
    "# Get LCM of denominators\n",
    "# vals is an array of fractions\n",
    "def arr_lcm(vals): \n",
    "    arr = [0 for i in range(len(vals))]\n",
    "    for i in range(len(vals)):\n",
    "        arr[i] = vals[i].denominator \n",
    "    ans = np.lcm(arr[0], arr[1])\n",
    "    for i in range(2,len(arr)):\n",
    "        ans = np.lcm(ans, arr[i])\n",
    "    return ans\n",
    "\n"
   ]
  },
  {
   "cell_type": "code",
   "execution_count": 4,
   "metadata": {},
   "outputs": [],
   "source": [
    "midi_name = \"Paco_de_Lucia_Entre_dos_Aguas.mid\" \n",
    "track = open_midi(midi_name)"
   ]
  },
  {
   "cell_type": "code",
   "execution_count": 5,
   "metadata": {
    "scrolled": false
   },
   "outputs": [],
   "source": [
    "# track[0].show()"
   ]
  },
  {
   "cell_type": "code",
   "execution_count": 6,
   "metadata": {},
   "outputs": [],
   "source": [
    "off, dur = get_offsets_durations(track[0])\n",
    "off, dur = convert_to_frac(off), convert_to_frac(dur)"
   ]
  },
  {
   "cell_type": "code",
   "execution_count": 7,
   "metadata": {
    "scrolled": true
   },
   "outputs": [],
   "source": [
    "# Find out the smallest part of a bar we have to break this thing into\n",
    "# Each quarter has to be broken into 'lcm' parts\n",
    "\n",
    "lcm = arr_lcm(off)\n",
    "off = list(map(lambda x : int(x*lcm), off))\n",
    "dur = list(map(lambda x : int(x*lcm), dur))"
   ]
  },
  {
   "cell_type": "code",
   "execution_count": 8,
   "metadata": {},
   "outputs": [],
   "source": [
    "tbl, inv_tbl = build_note_tbl(track)\n",
    "note_objs = extract_notes(track[0])\n",
    "notes = [0 for i in range(len(note_objs))]\n",
    "\n",
    "for i in range(len(note_objs)):\n",
    "    nt = note_objs[i]\n",
    "    if (isinstance(nt, note.Note)):\n",
    "        notes[i] = nt.pitch.nameWithOctave\n",
    "    elif (isinstance(nt, chord.Chord)):\n",
    "        chord_name = \"\"\n",
    "        for a in nt.notes:\n",
    "            chord_name += a.pitch.nameWithOctave + \" \"\n",
    "        chord_name = chord_name[0:len(chord_name)-1]\n",
    "        notes[i] = chord_name\n",
    "\n",
    "note_fin = ['a' for i in range(len(note_objs))]\n",
    "\n",
    "\n",
    "# Convert to note objects\n",
    "for i in range(len(notes)):\n",
    "    note_fin[i] = tbl[notes[i]]\n",
    "    \n",
    "notes = note_fin\n",
    "del note_objs\n",
    "del note_fin"
   ]
  },
  {
   "cell_type": "code",
   "execution_count": 9,
   "metadata": {},
   "outputs": [],
   "source": [
    "# Final sequences to be ingested by the LSTM\n",
    "\n",
    "note_seq = []\n",
    "dur_seq = []\n",
    "off_seq = []\n",
    "\n",
    "tbl_max = max(inv_tbl.keys())\n",
    "i = 0 \n",
    "\n",
    "while (i < len(notes)):\n",
    "    \n",
    "    # if the start points of the notes are the same\n",
    "    # merge them into a new chord\n",
    "    \n",
    "    off_seq.append(off[i])\n",
    "    \n",
    "    if (i != len(notes)-1) and (off[i+1] == off[i]):  \n",
    "        new_dur = max(dur[i], dur[i+1])\n",
    "        new_note = inv_tbl[notes[i]] + \" \" + inv_tbl[notes[i+1]]\n",
    "        chord_name = new_note.split()\n",
    "        chord_name.sort()\n",
    "        new_note = ' '.join(chord_name)\n",
    "        \n",
    "        # Update the note tables with our new concantonated chord \n",
    "        if (new_note not in tbl):\n",
    "            tbl[new_note] = tbl_max\n",
    "            inv_tbl[tbl_max] = new_note\n",
    "            tbl_max += 1\n",
    "        \n",
    "        note_seq.append(tbl[new_note])\n",
    "        dur_seq.append(new_dur)\n",
    "        i += 2\n",
    "        \n",
    "    else:\n",
    "        note_seq.append(notes[i])\n",
    "        dur_seq.append(dur[i])\n",
    "        i += 1\n",
    "        \n",
    "del i "
   ]
  },
  {
   "cell_type": "code",
   "execution_count": 10,
   "metadata": {},
   "outputs": [],
   "source": [
    "notes = note_seq\n",
    "off = off_seq\n",
    "dur = dur_seq"
   ]
  },
  {
   "cell_type": "code",
   "execution_count": 11,
   "metadata": {
    "scrolled": true
   },
   "outputs": [],
   "source": [
    "accum = 0\n",
    "final_notes = []\n",
    "final_dur = []\n",
    "final_off = [] \n",
    "\n",
    "for i in range(len(notes)):\n",
    "    \n",
    "    if (accum != off[i]):\n",
    "        # insert a rest\n",
    "        final_notes.append(0)\n",
    "        final_dur.append(off[i] - accum)\n",
    "        final_off.append(accum)\n",
    "        accum = off[i]\n",
    "    final_notes.append(notes[i])\n",
    "    final_dur.append(dur[i])\n",
    "    final_off.append(off[i])\n",
    "    accum += dur[i]       \n"
   ]
  },
  {
   "cell_type": "code",
   "execution_count": 12,
   "metadata": {},
   "outputs": [],
   "source": [
    "encoded_part = pd.DataFrame({'Note': final_notes, 'Duration': final_dur, 'Offset': final_off})\n",
    "# display(encoded_part)"
   ]
  },
  {
   "cell_type": "code",
   "execution_count": 13,
   "metadata": {},
   "outputs": [],
   "source": [
    "# To be used by LSTM\n",
    "encoded_part.to_csv('entre_dos_aguas.csv', sep=',', index=False)\n",
    "\n",
    "# To be used by the \n",
    "with open('tbl_entre_dos_aguas.pickle', 'wb') as handle:\n",
    "    pickle.dump(tbl, handle, protocol=pickle.HIGHEST_PROTOCOL)\n",
    "    \n",
    "with open('inv_tbl_entre_dos_aguas.pickle', 'wb') as handle:\n",
    "    pickle.dump(inv_tbl, handle, protocol=pickle.HIGHEST_PROTOCOL)\n",
    "    \n",
    "with open('lcm.pickle', 'wb') as handle:\n",
    "    pickle.dump(lcm, handle, protocol=pickle.HIGHEST_PROTOCOL)"
   ]
  }
 ],
 "metadata": {
  "kernelspec": {
   "display_name": "Python 3",
   "language": "python",
   "name": "python3"
  },
  "language_info": {
   "codemirror_mode": {
    "name": "ipython",
    "version": 3
   },
   "file_extension": ".py",
   "mimetype": "text/x-python",
   "name": "python",
   "nbconvert_exporter": "python",
   "pygments_lexer": "ipython3",
   "version": "3.7.4"
  }
 },
 "nbformat": 4,
 "nbformat_minor": 2
}
